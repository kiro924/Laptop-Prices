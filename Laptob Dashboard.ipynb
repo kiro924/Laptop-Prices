{
 "cells": [
  {
   "cell_type": "code",
   "execution_count": 1,
   "id": "27d73344-84be-469e-b625-7e0b886a6835",
   "metadata": {},
   "outputs": [
    {
     "name": "stdout",
     "output_type": "stream",
     "text": [
      "C:\\Users\\kiro\\Downloads\\Laptop Dataset\\Dashboard\n"
     ]
    }
   ],
   "source": [
    "#%mkdir Dashboard\n",
    "%cd Dashboard"
   ]
  },
  {
   "cell_type": "code",
   "execution_count": 2,
   "id": "b5ff77da-446c-4c8c-8444-e207d026775f",
   "metadata": {},
   "outputs": [
    {
     "name": "stdout",
     "output_type": "stream",
     "text": [
      "Overwriting Overview.py\n"
     ]
    }
   ],
   "source": [
    "%%writefile Overview.py\n",
    "\n",
    "import pandas as pd\n",
    "import plotly.graph_objects as go\n",
    "import plotly.express as px\n",
    "import streamlit as st\n",
    "\n",
    "st.set_page_config(layout='wide',\n",
    "                  page_title='Laptop Prices'\n",
    "                   )\n",
    "\n",
    "df=pd.read_csv('cleaned data')\n",
    "\n",
    "st.markdown(\n",
    "    f\"<h3 style='color: purple; font-weight: bold; font-size: 40px; text-align: center;'>Laptop Prices Overview</h3>\", \n",
    "    unsafe_allow_html=True\n",
    ")\n",
    "\n",
    "col1, col2, col3, col4 = st.columns(4)\n",
    "\n",
    "col1.markdown(f\"<h3 style='color: black;'>Number Of Brands: {df['Brand'].nunique()}</h3>\", unsafe_allow_html=True)\n",
    "\n",
    "col2.markdown(f\"<h3 style='color: black;'>Top Ram Size: {df['RAM (GB)'].max()}</h3>\", unsafe_allow_html=True)\n",
    "\n",
    "col3.markdown(f\"<h3 style='color: black;'>Top Battery Life: {df['Battery Life (hours)'].max()}</h3>\", unsafe_allow_html=True)\n",
    "\n",
    "col4.markdown(f\"<h3 style='color: black;'>Highest Storage(GB): {df['Storage (GB)'].max()}</h3>\", unsafe_allow_html=True)\n",
    "\n",
    "\n",
    "col1, col2, col3=st.columns([4,4,4])\n",
    "\n",
    "brand_sales=df.groupby('Brand')['Price ($)'].sum().astype(int).sort_values(ascending=False).round()\n",
    "fig1 = go.Figure()\n",
    "fig1.add_trace(go.Bar(\n",
    "    x=brand_sales.index,  \n",
    "    y=brand_sales.values,    \n",
    "    marker=dict(color=px.colors.qualitative.Bold[1])  \n",
    "))\n",
    "\n",
    "fig1.update_layout(\n",
    "    title=\"total sales for each brand\",\n",
    "    xaxis_title=\"Brand\",\n",
    "    yaxis_title=\"Sales\"\n",
    ")\n",
    "col1.plotly_chart(fig1)\n",
    "\n",
    "\n",
    "processor_sales=df.groupby('Processor')['Price ($)'].sum().astype(int).sort_values(ascending=False).round()\n",
    "fig2 = go.Figure()\n",
    "fig2.add_trace(go.Bar(\n",
    "    x=processor_sales.index,  \n",
    "    y=processor_sales.values,    \n",
    "    marker=dict(color=px.colors.qualitative.Bold[1])  \n",
    "))\n",
    "\n",
    "fig2.update_layout(\n",
    "    title=\"total sales for each processor\".title(),\n",
    "    xaxis_title=\"Processor\",\n",
    "    yaxis_title=\"Sales\"\n",
    ")\n",
    "col2.plotly_chart(fig2)\n",
    "\n",
    "\n",
    "storage_sales=df.groupby('Storage (GB)')['Price ($)'].sum().astype(int).sort_values(ascending=False).round()\n",
    "fig3 = go.Figure()\n",
    "fig3.add_trace(go.Bar(\n",
    "    x=storage_sales.index,  \n",
    "    y=storage_sales.values,    \n",
    "    marker=dict(color=px.colors.qualitative.Bold[1])  \n",
    "))\n",
    "\n",
    "fig3.update_layout(\n",
    "    title=\"total sales for each storage\".title(),\n",
    "    xaxis_title=\"Storage(GB)\",\n",
    "    yaxis_title=\"Sales\"\n",
    ")\n",
    "col3.plotly_chart(fig3)\n"
   ]
  },
  {
   "cell_type": "code",
   "execution_count": 3,
   "id": "8ee329b1-06d0-4ac5-a485-f87a45f297b2",
   "metadata": {},
   "outputs": [
    {
     "name": "stdout",
     "output_type": "stream",
     "text": [
      "C:\\Users\\kiro\\Downloads\\Laptop Dataset\\Dashboard\\pages\n"
     ]
    }
   ],
   "source": [
    "#%mkdir pages\n",
    "%cd pages"
   ]
  },
  {
   "cell_type": "code",
   "execution_count": 4,
   "id": "3c4b5e2b-58dc-4824-b107-8a20f5a514e6",
   "metadata": {},
   "outputs": [
    {
     "name": "stdout",
     "output_type": "stream",
     "text": [
      "Overwriting Charts.py\n"
     ]
    }
   ],
   "source": [
    "%%writefile Charts.py\n",
    "\n",
    "import pandas as pd\n",
    "import plotly.graph_objects as go\n",
    "import plotly.express as px\n",
    "import streamlit as st\n",
    "\n",
    "st.set_page_config(layout='wide',\n",
    "                  page_title='Charts'\n",
    "                  )\n",
    "\n",
    "df=pd.read_csv('cleaned data')\n",
    "\n",
    "tab1, tab2= st.tabs(['Bi Variate Analysis','Multi Variate Analysis'])\n",
    "\n",
    "with tab1:\n",
    "\n",
    "    col1, col2=st.columns([4,4])\n",
    "    \n",
    "    brands=df.groupby('Brand')['Price ($)'].sum().astype(int).sort_values(ascending=False).round()\n",
    "    fig1 = go.Figure()\n",
    "    fig1.add_trace(go.Bar(\n",
    "        x=brands.index,  \n",
    "        y=brands.values,\n",
    "        marker=dict(color=px.colors.qualitative.Vivid[2])  \n",
    "    ))\n",
    "    \n",
    "    fig1.update_layout(\n",
    "        title=\"total sales for each brand\".title(),\n",
    "        xaxis_title=\"Brand\",\n",
    "        yaxis_title=\"Sales\"\n",
    "    )\n",
    "    col1.plotly_chart(fig1)\n",
    "\n",
    "    Processors=df.groupby('Processor')['Price ($)'].sum().astype(int).sort_values(ascending=False).round()\n",
    "    fig2 = go.Figure()\n",
    "    fig2.add_trace(go.Bar(\n",
    "        x=Processors.index,  \n",
    "        y=Processors.values,\n",
    "        marker=dict(color=px.colors.qualitative.Vivid[7])  \n",
    "    ))\n",
    "    \n",
    "    fig2.update_layout(\n",
    "        title=\"total sales for each processor\".title(),\n",
    "        xaxis_title=\"Processor\",\n",
    "        yaxis_title=\"Sales\"\n",
    "    )\n",
    "    col2.plotly_chart(fig2)\n",
    "    \n",
    "    \n",
    "    Storages=df.groupby('Storage (GB)')['Price ($)'].sum().astype(int).sort_values(ascending=False).round()\n",
    "    fig3 = go.Figure()\n",
    "    fig3.add_trace(go.Bar(\n",
    "        x=Storages.index,  \n",
    "        y=Storages.values,\n",
    "        marker=dict(color=px.colors.qualitative.Vivid[2])  \n",
    "    ))\n",
    "    \n",
    "    fig3.update_layout(\n",
    "        title=\"total sales for each Storage (GB)\".title(),\n",
    "        xaxis_title=\"Storage\",\n",
    "        yaxis_title=\"Sales\"\n",
    "    )\n",
    "    col1.plotly_chart(fig3)\n",
    "    \n",
    "    \n",
    "    gpu=df.groupby('GPU')['Price ($)'].sum().astype(int).sort_values(ascending=False).round()\n",
    "    fig4 = go.Figure()\n",
    "    fig4.add_trace(go.Bar(\n",
    "        x=gpu.index,  \n",
    "        y=gpu.values,\n",
    "        marker=dict(color=px.colors.qualitative.Vivid[7])  \n",
    "    ))\n",
    "    \n",
    "    fig4.update_layout(\n",
    "        title=\"total sales for each gpu\".title(),\n",
    "        xaxis_title=\"Gpu\",\n",
    "        yaxis_title=\"Sales\"\n",
    "    )\n",
    "    col2.plotly_chart(fig4)\n",
    "    \n",
    "    Operating_Systems=df.groupby('Operating System')['Price ($)'].sum().astype(int).sort_values(ascending=False).round()\n",
    "    fig5 = go.Figure()\n",
    "    fig5.add_trace(go.Bar(\n",
    "        x=Operating_Systems.index,  \n",
    "        y=Operating_Systems.values,\n",
    "        marker=dict(color=px.colors.qualitative.Vivid[2])  \n",
    "    ))\n",
    "    \n",
    "    fig5.update_layout(\n",
    "        title=\"total sales for each gpu\".title(),\n",
    "        xaxis_title=\"Gpu\",\n",
    "        yaxis_title=\"Sales\"\n",
    "    )\n",
    "    col2.plotly_chart(fig5)\n",
    "    \n",
    "\n",
    "\n",
    "with tab2:\n",
    "    col1, col2=st.columns([2,2])\n",
    "\n",
    "    t_s_o_s_b=df.groupby(['Brand','Operating System'])['Price ($)'].sum().reset_index().sort_values(ascending=False, by='Price ($)')   \n",
    "    fig1 = px.bar(t_s_o_s_b, \n",
    "             x='Brand', \n",
    "             y='Price ($)', \n",
    "             color='Operating System',  \n",
    "             title=\"total sales for each brand and operating system\".title(),\n",
    "             color_discrete_sequence=px.colors.qualitative.Vivid_r\n",
    "              )\n",
    "\n",
    "    col1.plotly_chart(fig1)\n",
    "\n",
    "    t_s_o_s_s=df.groupby(['Storage (GB)','Operating System'])['Price ($)'].sum().reset_index().sort_values(ascending=False, by='Price ($)')\n",
    "    fig2 = px.bar(t_s_o_s_s, \n",
    "             x='Storage (GB)', \n",
    "             y='Price ($)', \n",
    "             color='Operating System',  \n",
    "             title=\"total sales for each storage and operating system\".title(),\n",
    "             color_discrete_sequence=px.colors.qualitative.Vivid_r\n",
    "              )\n",
    "\n",
    "    col2.plotly_chart(fig2)\n",
    "\n",
    "\n",
    "    t_s_o_s_r=df.groupby(['RAM (GB)','Operating System'])['Price ($)'].sum().reset_index().sort_values(ascending=False, by='Price ($)')\n",
    "    fig3 = px.bar(t_s_o_s_r, \n",
    "             x='RAM (GB)', \n",
    "             y='Price ($)', \n",
    "             color='Operating System',  \n",
    "             title=\"total sales for each ram and operating system\".title(),\n",
    "             color_discrete_sequence=px.colors.qualitative.Vivid_r\n",
    "              )\n",
    "\n",
    "\n",
    "    col1.plotly_chart(fig3)\n",
    "\n",
    "    t_s_o_s_p=df.groupby(['Processor','Operating System'])['Price ($)'].sum().reset_index().sort_values(ascending=False, by='Price ($)')\n",
    "\n",
    "    fig4 = px.bar(t_s_o_s_p, \n",
    "             x='Processor', \n",
    "             y='Price ($)', \n",
    "             color='Operating System',  \n",
    "             title=\"total sales for each storage and operating system\".title(),\n",
    "             color_discrete_sequence=px.colors.qualitative.Vivid_r\n",
    "              )\n",
    "\n",
    "\n",
    "    col2.plotly_chart(fig4)"
   ]
  },
  {
   "cell_type": "code",
   "execution_count": 5,
   "id": "d1a580ab-2d1a-48fd-8b42-1a3dd7effc0d",
   "metadata": {},
   "outputs": [
    {
     "name": "stdout",
     "output_type": "stream",
     "text": [
      "C:\\Users\\kiro\\Downloads\\Laptop Dataset\\Dashboard\n"
     ]
    }
   ],
   "source": [
    "cd .."
   ]
  },
  {
   "cell_type": "code",
   "execution_count": null,
   "id": "e3ee0323-6865-4c87-8f4f-af730f07b756",
   "metadata": {},
   "outputs": [],
   "source": [
    "!streamlit run Overview.py"
   ]
  },
  {
   "cell_type": "code",
   "execution_count": null,
   "id": "f10c3817-1725-4ab2-a329-afd3e1654df7",
   "metadata": {},
   "outputs": [],
   "source": []
  }
 ],
 "metadata": {
  "kernelspec": {
   "display_name": "Python 3 (ipykernel)",
   "language": "python",
   "name": "python3"
  },
  "language_info": {
   "codemirror_mode": {
    "name": "ipython",
    "version": 3
   },
   "file_extension": ".py",
   "mimetype": "text/x-python",
   "name": "python",
   "nbconvert_exporter": "python",
   "pygments_lexer": "ipython3",
   "version": "3.13.0"
  },
  "widgets": {
   "application/vnd.jupyter.widget-state+json": {
    "state": {},
    "version_major": 2,
    "version_minor": 0
   }
  }
 },
 "nbformat": 4,
 "nbformat_minor": 5
}
